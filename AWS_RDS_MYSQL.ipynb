{
 "cells": [
  {
   "cell_type": "code",
   "execution_count": 1,
   "id": "fd14a2d4",
   "metadata": {},
   "outputs": [
    {
     "name": "stdout",
     "output_type": "stream",
     "text": [
      "Requirement already satisfied: mysql-connector-python in /home/mohammed_shaneeb/anaconda3/lib/python3.9/site-packages (8.1.0)\r\n",
      "Requirement already satisfied: protobuf<=4.21.12,>=4.21.1 in /home/mohammed_shaneeb/anaconda3/lib/python3.9/site-packages (from mysql-connector-python) (4.21.12)\r\n"
     ]
    }
   ],
   "source": [
    "!pip install mysql-connector-python\n"
   ]
  },
  {
   "cell_type": "code",
   "execution_count": 12,
   "id": "dbbcc101",
   "metadata": {},
   "outputs": [],
   "source": [
    "import os\n",
    "from dotenv import load_dotenv\n",
    "load_dotenv()\n",
    "host = os.environ.get('host')\n",
    "user = os.environ.get('user')\n",
    "password = os.environ.get('password')\n",
    "database = os.environ.get('database')"
   ]
  },
  {
   "cell_type": "code",
   "execution_count": 13,
   "id": "ec5af951",
   "metadata": {},
   "outputs": [],
   "source": [
    "import mysql.connector\n",
    "\n",
    "# Replace these with your own MySQL server credentials\n",
    "db_config = {\n",
    "    \"host\": host,\n",
    "    \"user\": user,\n",
    "    \"password\": password,\n",
    "    \"database\": database,\n",
    "}\n",
    "\n",
    "def connect_to_database():\n",
    "    try:\n",
    "        conn = mysql.connector.connect(**db_config)\n",
    "        return conn\n",
    "    except mysql.connector.Error as err:\n",
    "        print(f\"Error: {err}\")\n",
    "        return None\n"
   ]
  },
  {
   "cell_type": "markdown",
   "id": "557b05de",
   "metadata": {},
   "source": [
    "## Create Table"
   ]
  },
  {
   "cell_type": "code",
   "execution_count": 3,
   "id": "87635aee",
   "metadata": {},
   "outputs": [],
   "source": [
    "def create_table():\n",
    "    conn = connect_to_database()\n",
    "    if conn is not None:\n",
    "        try:\n",
    "            cursor = conn.cursor()\n",
    "            # Define SQL to create the Students table\n",
    "            sql = \"\"\"\n",
    "                CREATE TABLE IF NOT EXISTS Students (\n",
    "                    id INT AUTO_INCREMENT PRIMARY KEY,\n",
    "                    name VARCHAR(255),\n",
    "                    age INT,\n",
    "                    place VARCHAR(255),\n",
    "                    class VARCHAR(255),\n",
    "                    grade VARCHAR(255)\n",
    "                )\n",
    "            \"\"\"\n",
    "            cursor.execute(sql)\n",
    "            print(\"Table 'Students' created successfully!\")\n",
    "        except mysql.connector.Error as err:\n",
    "            print(f\"Error: {err}\")\n",
    "        finally:\n",
    "            conn.close()\n"
   ]
  },
  {
   "cell_type": "code",
   "execution_count": 4,
   "id": "f946841f",
   "metadata": {},
   "outputs": [
    {
     "name": "stdout",
     "output_type": "stream",
     "text": [
      "Table 'Students' created successfully!\n"
     ]
    }
   ],
   "source": [
    "create_table()"
   ]
  },
  {
   "cell_type": "markdown",
   "id": "41524aee",
   "metadata": {},
   "source": [
    "## Insert into Table"
   ]
  },
  {
   "cell_type": "code",
   "execution_count": 5,
   "id": "8093bf88",
   "metadata": {},
   "outputs": [],
   "source": [
    "def insert_student(conn, name, age, place, student_class, grade):\n",
    "    try:\n",
    "        cursor = conn.cursor()\n",
    "        insert_query = \"INSERT INTO Students (name, age, place, class, grade) VALUES (%s, %s, %s, %s, %s)\"\n",
    "        data = (name, age, place, student_class, grade)\n",
    "        cursor.execute(insert_query, data)\n",
    "        conn.commit()\n",
    "        print(\"Record inserted successfully.\")\n",
    "    except mysql.connector.Error as err:\n",
    "        print(f\"Error: {err}\")\n",
    "\n",
    "# Usage example:\n",
    "# conn = connect_to_database()\n",
    "# insert_student(conn, \"John Doe\", 25, \"New York\", \"Math\", \"A\")\n"
   ]
  },
  {
   "cell_type": "markdown",
   "id": "548779ff",
   "metadata": {},
   "source": [
    "## Delete Record"
   ]
  },
  {
   "cell_type": "code",
   "execution_count": 6,
   "id": "90f70f46",
   "metadata": {},
   "outputs": [],
   "source": [
    "def delete_student(conn, student_id):\n",
    "    try:\n",
    "        cursor = conn.cursor()\n",
    "        delete_query = \"DELETE FROM Students WHERE id = %s\"\n",
    "        data = (student_id,)\n",
    "        cursor.execute(delete_query, data)\n",
    "        conn.commit()\n",
    "        print(\"Record deleted successfully.\")\n",
    "    except mysql.connector.Error as err:\n",
    "        print(f\"Error: {err}\")\n",
    "\n",
    "# Usage example:\n",
    "# conn = connect_to_database()\n",
    "# delete_student(conn, 1)  # Delete student with ID 1\n"
   ]
  },
  {
   "cell_type": "markdown",
   "id": "2155d58c",
   "metadata": {},
   "source": [
    "## Update"
   ]
  },
  {
   "cell_type": "code",
   "execution_count": 7,
   "id": "656ac7c6",
   "metadata": {},
   "outputs": [],
   "source": [
    "def update_student(conn, student_id, name, age, place, student_class, grade):\n",
    "    try:\n",
    "        cursor = conn.cursor()\n",
    "        update_query = \"UPDATE Students SET name = %s, age = %s, place = %s, class = %s, grade = %s WHERE id = %s\"\n",
    "        data = (name, age, place, student_class, grade, student_id)\n",
    "        cursor.execute(update_query, data)\n",
    "        conn.commit()\n",
    "        print(\"Record updated successfully.\")\n",
    "    except mysql.connector.Error as err:\n",
    "        print(f\"Error: {err}\")\n",
    "\n",
    "# Usage example:\n",
    "# conn = connect_to_database()\n",
    "# update_student(conn, 1, \"Updated Name\", 30, \"Los Angeles\", \"History\", \"B\")\n"
   ]
  },
  {
   "cell_type": "code",
   "execution_count": 8,
   "id": "84ef2a99",
   "metadata": {},
   "outputs": [],
   "source": [
    "def clear_records():\n",
    "    conn = connect_to_database()\n",
    "    if conn is not None:\n",
    "        try:\n",
    "            cursor = conn.cursor()\n",
    "            # Define SQL to delete all records from the Students table\n",
    "            sql = \"DELETE FROM Students\"\n",
    "            cursor.execute(sql)\n",
    "            conn.commit()\n",
    "            print(\"All records in 'Students' table cleared successfully!\")\n",
    "        except mysql.connector.Error as err:\n",
    "            print(f\"Error: {err}\")\n",
    "        finally:\n",
    "            conn.close()\n"
   ]
  },
  {
   "cell_type": "code",
   "execution_count": 9,
   "id": "52b1da82",
   "metadata": {},
   "outputs": [],
   "source": [
    "conn = connect_to_database()\n"
   ]
  },
  {
   "cell_type": "code",
   "execution_count": 10,
   "id": "38f061e5",
   "metadata": {},
   "outputs": [
    {
     "name": "stdout",
     "output_type": "stream",
     "text": [
      "Record inserted successfully.\n",
      "Record inserted successfully.\n",
      "Record inserted successfully.\n",
      "Record inserted successfully.\n",
      "Record inserted successfully.\n",
      "Record inserted successfully.\n",
      "Record inserted successfully.\n",
      "Record inserted successfully.\n",
      "Record inserted successfully.\n",
      "Record inserted successfully.\n",
      "Record inserted successfully.\n",
      "Record inserted successfully.\n",
      "Record inserted successfully.\n",
      "Record inserted successfully.\n",
      "Record inserted successfully.\n",
      "Record inserted successfully.\n",
      "Record inserted successfully.\n",
      "Record inserted successfully.\n",
      "Record inserted successfully.\n",
      "Record inserted successfully.\n",
      "Record inserted successfully.\n",
      "Record inserted successfully.\n",
      "Record inserted successfully.\n",
      "Record inserted successfully.\n",
      "Record inserted successfully.\n",
      "Record inserted successfully.\n",
      "Record inserted successfully.\n",
      "Record inserted successfully.\n",
      "Record inserted successfully.\n",
      "Record inserted successfully.\n",
      "Record inserted successfully.\n",
      "Record inserted successfully.\n",
      "Record inserted successfully.\n",
      "Record inserted successfully.\n",
      "Record inserted successfully.\n",
      "Record inserted successfully.\n",
      "Record inserted successfully.\n",
      "Record inserted successfully.\n",
      "Record inserted successfully.\n",
      "Record inserted successfully.\n",
      "Record inserted successfully.\n",
      "Record inserted successfully.\n",
      "Record inserted successfully.\n",
      "Record inserted successfully.\n",
      "Record inserted successfully.\n",
      "Record inserted successfully.\n",
      "Record inserted successfully.\n",
      "Record inserted successfully.\n",
      "Record inserted successfully.\n",
      "Record inserted successfully.\n"
     ]
    }
   ],
   "source": [
    "insert_student(conn, \"John Doe\", 25, \"New York\", \"Math\", \"A\")\n",
    "insert_student(conn, \"Jane Smith\", 22, \"Los Angeles\", \"Chemistry\", \"B\")\n",
    "insert_student(conn, \"Michael Johnson\", 23, \"Chicago\", \"History\", \"A-\")\n",
    "insert_student(conn, \"Emily Davis\", 21, \"San Francisco\", \"Computer Science\", \"A+\")\n",
    "insert_student(conn, \"Robert Wilson\", 24, \"Boston\", \"Economics\", \"B+\")\n",
    "insert_student(conn, \"Sarah Lee\", 22, \"Seattle\", \"Physics\", \"A-\")\n",
    "insert_student(conn, \"William Brown\", 26, \"Miami\", \"English\", \"B-\")\n",
    "insert_student(conn, \"Olivia Taylor\", 20, \"Austin\", \"Biology\", \"A\")\n",
    "insert_student(conn, \"James Miller\", 23, \"Denver\", \"Psychology\", \"B\")\n",
    "insert_student(conn, \"Sophia Anderson\", 22, \"Atlanta\", \"Sociology\", \"B+\")\n",
    "insert_student(conn, \"Ethan Garcia\", 25, \"Dallas\", \"Political Science\", \"A-\")\n",
    "insert_student(conn, \"Ava Martinez\", 24, \"Phoenix\", \"Music\", \"C+\")\n",
    "insert_student(conn, \"Liam Hernandez\", 21, \"Philadelphia\", \"Art\", \"A\")\n",
    "insert_student(conn, \"Mia Lopez\", 22, \"San Diego\", \"Engineering\", \"A+\")\n",
    "insert_student(conn, \"Noah Gonzalez\", 23, \"Houston\", \"Geology\", \"B\")\n",
    "insert_student(conn, \"Isabella Perez\", 20, \"Detroit\", \"Environmental Science\", \"B-\")\n",
    "insert_student(conn, \"Benjamin Carter\", 24, \"Minneapolis\", \"Business\", \"A-\")\n",
    "insert_student(conn, \"Amelia Hall\", 22, \"Portland\", \"Communications\", \"B+\")\n",
    "insert_student(conn, \"Henry Sanchez\", 25, \"Nashville\", \"Marketing\", \"B\")\n",
    "insert_student(conn, \"Harper Adams\", 21, \"Raleigh\", \"Film Studies\", \"A\")\n",
    "insert_student(conn, \"Samuel King\", 24, \"Salt Lake City\", \"Anthropology\", \"B-\")\n",
    "insert_student(conn, \"Evelyn Mitchell\", 23, \"Indianapolis\", \"Linguistics\", \"A\")\n",
    "insert_student(conn, \"Daniel Turner\", 26, \"Pittsburgh\", \"Statistics\", \"A+\")\n",
    "insert_student(conn, \"Grace Scott\", 22, \"Orlando\", \"Philosophy\", \"B+\")\n",
    "insert_student(conn, \"Matthew Wood\", 25, \"Sacramento\", \"Nursing\", \"A-\")\n",
    "insert_student(conn, \"Chloe Green\", 20, \"Charlotte\", \"Education\", \"A\")\n",
    "insert_student(conn, \"Jackson Baker\", 23, \"San Antonio\", \"Nutrition\", \"B\")\n",
    "insert_student(conn, \"Lily Ramirez\", 22, \"Tampa\", \"Religious Studies\", \"A-\")\n",
    "insert_student(conn, \"Sebastian Reed\", 24, \"Las Vegas\", \"Theater\", \"C+\")\n",
    "insert_student(conn, \"Zoey Cooper\", 21, \"Kansas City\", \"Philosophy\", \"A\")\n",
    "insert_student(conn, \"Aiden Flores\", 23, \"Baltimore\", \"Chemistry\", \"A+\")\n",
    "insert_student(conn, \"Penelope Ward\", 24, \"St. Louis\", \"Physics\", \"B\")\n",
    "insert_student(conn, \"Gabriel Diaz\", 22, \"Milwaukee\", \"History\", \"B-\")\n",
    "insert_student(conn, \"Addison Nelson\", 25, \"New Orleans\", \"Sociology\", \"B+\")\n",
    "insert_student(conn, \"Scarlett Campbell\", 21, \"Memphis\", \"Psychology\", \"A-\")\n",
    "insert_student(conn, \"Elijah Mitchell\", 24, \"Cincinnati\", \"Economics\", \"A-\")\n",
    "insert_student(conn, \"Hannah Turner\", 22, \"Columbus\", \"Political Science\", \"B+\")\n",
    "insert_student(conn, \"Jackson Davis\", 23, \"San Jose\", \"Computer Science\", \"A\")\n",
    "insert_student(conn, \"Ava Wilson\", 25, \"Oakland\", \"Engineering\", \"A+\")\n",
    "insert_student(conn, \"Sophia Taylor\", 21, \"San Francisco\", \"Art\", \"B\")\n",
    "insert_student(conn, \"William Baker\", 26, \"Los Angeles\", \"Business\", \"C+\")\n",
    "insert_student(conn, \"Olivia Lewis\", 22, \"Seattle\", \"Communications\", \"A\")\n",
    "insert_student(conn, \"Ethan Harris\", 24, \"Dallas\", \"Marketing\", \"A+\")\n",
    "insert_student(conn, \"Mia Rodriguez\", 23, \"Chicago\", \"Film Studies\", \"B\")\n",
    "insert_student(conn, \"Noah White\", 20, \"Miami\", \"Anthropology\", \"B-\")\n",
    "insert_student(conn, \"Isabella Jackson\", 22, \"Atlanta\", \"Linguistics\", \"A\")\n",
    "insert_student(conn, \"Liam Hall\", 25, \"Boston\", \"Statistics\", \"A-\")\n",
    "insert_student(conn, \"Sophia Smith\", 23, \"Austin\", \"Nursing\", \"B+\")\n",
    "insert_student(conn, \"Benjamin Adams\", 24, \"Denver\", \"Education\", \"B\")\n",
    "insert_student(conn, \"Emily Moore\", 21, \"San Diego\", \"Nutrition\", \"A\")\n",
    "\n"
   ]
  }
 ],
 "metadata": {
  "kernelspec": {
   "display_name": "Python 3 (ipykernel)",
   "language": "python",
   "name": "python3"
  },
  "language_info": {
   "codemirror_mode": {
    "name": "ipython",
    "version": 3
   },
   "file_extension": ".py",
   "mimetype": "text/x-python",
   "name": "python",
   "nbconvert_exporter": "python",
   "pygments_lexer": "ipython3",
   "version": "3.9.17"
  }
 },
 "nbformat": 4,
 "nbformat_minor": 5
}
